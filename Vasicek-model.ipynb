{
 "cells": [
  {
   "cell_type": "code",
   "execution_count": 21,
   "metadata": {},
   "outputs": [],
   "source": [
    "import pandas as pd\n",
    "import numpy as np\n",
    "import matplotlib.pyplot as plt\n",
    "import seaborn as sns\n",
    "from tqdm import tqdm\n",
    "\n",
    "from scipy.stats import linregress\n",
    "import statsmodels.api as sm"
   ]
  },
  {
   "cell_type": "code",
   "execution_count": 22,
   "metadata": {},
   "outputs": [
    {
     "name": "stdout",
     "output_type": "stream",
     "text": [
      "IR-data.xlsx        README.md           Vasicek-model.ipynb ~$NEDL_Vasicek.xlsx\n"
     ]
    }
   ],
   "source": [
    "!ls"
   ]
  },
  {
   "cell_type": "code",
   "execution_count": 23,
   "metadata": {},
   "outputs": [
    {
     "data": {
      "text/html": [
       "<div>\n",
       "<style scoped>\n",
       "    .dataframe tbody tr th:only-of-type {\n",
       "        vertical-align: middle;\n",
       "    }\n",
       "\n",
       "    .dataframe tbody tr th {\n",
       "        vertical-align: top;\n",
       "    }\n",
       "\n",
       "    .dataframe thead th {\n",
       "        text-align: right;\n",
       "    }\n",
       "</style>\n",
       "<table border=\"1\" class=\"dataframe\">\n",
       "  <thead>\n",
       "    <tr style=\"text-align: right;\">\n",
       "      <th></th>\n",
       "      <th>Date</th>\n",
       "      <th>Interest rate</th>\n",
       "      <th>delta</th>\n",
       "    </tr>\n",
       "  </thead>\n",
       "  <tbody>\n",
       "    <tr>\n",
       "      <th>0</th>\n",
       "      <td>2010-12-30</td>\n",
       "      <td>0.0420</td>\n",
       "      <td>-0.0007</td>\n",
       "    </tr>\n",
       "    <tr>\n",
       "      <th>1</th>\n",
       "      <td>2011-01-06</td>\n",
       "      <td>0.0413</td>\n",
       "      <td>-0.0007</td>\n",
       "    </tr>\n",
       "    <tr>\n",
       "      <th>2</th>\n",
       "      <td>2011-01-13</td>\n",
       "      <td>0.0408</td>\n",
       "      <td>-0.0005</td>\n",
       "    </tr>\n",
       "    <tr>\n",
       "      <th>3</th>\n",
       "      <td>2011-01-20</td>\n",
       "      <td>0.0405</td>\n",
       "      <td>-0.0003</td>\n",
       "    </tr>\n",
       "    <tr>\n",
       "      <th>4</th>\n",
       "      <td>2011-01-27</td>\n",
       "      <td>0.0409</td>\n",
       "      <td>0.0004</td>\n",
       "    </tr>\n",
       "    <tr>\n",
       "      <th>...</th>\n",
       "      <td>...</td>\n",
       "      <td>...</td>\n",
       "      <td>...</td>\n",
       "    </tr>\n",
       "    <tr>\n",
       "      <th>582</th>\n",
       "      <td>2022-02-24</td>\n",
       "      <td>0.0314</td>\n",
       "      <td>-0.0001</td>\n",
       "    </tr>\n",
       "    <tr>\n",
       "      <th>583</th>\n",
       "      <td>2022-03-03</td>\n",
       "      <td>0.0301</td>\n",
       "      <td>-0.0013</td>\n",
       "    </tr>\n",
       "    <tr>\n",
       "      <th>584</th>\n",
       "      <td>2022-03-10</td>\n",
       "      <td>0.0309</td>\n",
       "      <td>0.0008</td>\n",
       "    </tr>\n",
       "    <tr>\n",
       "      <th>585</th>\n",
       "      <td>2022-03-17</td>\n",
       "      <td>0.0339</td>\n",
       "      <td>0.0030</td>\n",
       "    </tr>\n",
       "    <tr>\n",
       "      <th>586</th>\n",
       "      <td>2022-03-24</td>\n",
       "      <td>0.0363</td>\n",
       "      <td>0.0024</td>\n",
       "    </tr>\n",
       "  </tbody>\n",
       "</table>\n",
       "<p>587 rows × 3 columns</p>\n",
       "</div>"
      ],
      "text/plain": [
       "          Date  Interest rate   delta\n",
       "0   2010-12-30         0.0420 -0.0007\n",
       "1   2011-01-06         0.0413 -0.0007\n",
       "2   2011-01-13         0.0408 -0.0005\n",
       "3   2011-01-20         0.0405 -0.0003\n",
       "4   2011-01-27         0.0409  0.0004\n",
       "..         ...            ...     ...\n",
       "582 2022-02-24         0.0314 -0.0001\n",
       "583 2022-03-03         0.0301 -0.0013\n",
       "584 2022-03-10         0.0309  0.0008\n",
       "585 2022-03-17         0.0339  0.0030\n",
       "586 2022-03-24         0.0363  0.0024\n",
       "\n",
       "[587 rows x 3 columns]"
      ]
     },
     "execution_count": 23,
     "metadata": {},
     "output_type": "execute_result"
    }
   ],
   "source": [
    "ir = pd.read_excel('IR-data.xlsx')\n",
    "ir['delta'] = ir['Interest rate'].diff()\n",
    "ir.loc[:, ['Interest rate', 'delta']] = ir.loc[:, ['Interest rate', 'delta']].multiply(0.01)\n",
    "ir = ir.bfill()\n",
    "ir"
   ]
  },
  {
   "cell_type": "code",
   "execution_count": 24,
   "metadata": {},
   "outputs": [],
   "source": [
    "train = ir.loc[ir['Date'] < '2021-01-01', :]\n",
    "test = ir.loc[ir['Date'] >= '2021-01-01', :]\n",
    "\n",
    "x_train = sm.add_constant(train['Interest rate'])\n",
    "y_train = train['delta']\n",
    "\n",
    "x_test = sm.add_constant(test['Interest rate'])\n",
    "y_test = test['delta']"
   ]
  },
  {
   "cell_type": "code",
   "execution_count": 25,
   "metadata": {},
   "outputs": [
    {
     "data": {
      "image/png": "[encoded data removed]",
      "text/plain": [
       "<Figure size 640x480 with 1 Axes>"
      ]
     },
     "metadata": {},
     "output_type": "display_data"
    }
   ],
   "source": [
    "# Plot the histogram with density normalization\n",
    "hist = sns.histplot(y_train, bins=20, alpha=0.5, label='train delta', stat='density', common_norm=False, element='step', fill=True, linewidth=0.5)\n",
    "\n",
    "# Get the bin heights and edges\n",
    "counts, edges = np.histogram(y_train, bins=20)\n",
    "\n",
    "# Get the maximum count from the histogram to scale the KDE plot\n",
    "max_count = max(counts)\n",
    "\n",
    "# Add the KDE line separately, scaled to match the histogram's count\n",
    "sns.kdeplot(y_train, color='red', linewidth=1, fill=True)\n",
    "\n",
    "plt.axvline(y_train.mean(), color='black', linestyle='dashed', linewidth=1, label='train mean')\n",
    "plt.axvline(y_train.median(), color='green', linestyle='dashed', linewidth=1, label='train median')\n",
    "\n",
    "# Show the plot\n",
    "plt.legend()\n",
    "plt.show()"
   ]
  },
  {
   "cell_type": "code",
   "execution_count": 26,
   "metadata": {},
   "outputs": [
    {
     "data": {
      "text/html": [
       "<table class=\"simpletable\">\n",
       "<caption>OLS Regression Results</caption>\n",
       "<tr>\n",
       "  <th>Dep. Variable:</th>          <td>delta</td>      <th>  R-squared:         </th> <td>   0.005</td>\n",
       "</tr>\n",
       "<tr>\n",
       "  <th>Model:</th>                   <td>OLS</td>       <th>  Adj. R-squared:    </th> <td>   0.003</td>\n",
       "</tr>\n",
       "<tr>\n",
       "  <th>Method:</th>             <td>Least Squares</td>  <th>  F-statistic:       </th> <td>   2.650</td>\n",
       "</tr>\n",
       "<tr>\n",
       "  <th>Date:</th>             <td>Thu, 22 Aug 2024</td> <th>  Prob (F-statistic):</th>  <td> 0.104</td> \n",
       "</tr>\n",
       "<tr>\n",
       "  <th>Time:</th>                 <td>00:05:10</td>     <th>  Log-Likelihood:    </th> <td>  3118.9</td>\n",
       "</tr>\n",
       "<tr>\n",
       "  <th>No. Observations:</th>      <td>   523</td>      <th>  AIC:               </th> <td>  -6234.</td>\n",
       "</tr>\n",
       "<tr>\n",
       "  <th>Df Residuals:</th>          <td>   521</td>      <th>  BIC:               </th> <td>  -6225.</td>\n",
       "</tr>\n",
       "<tr>\n",
       "  <th>Df Model:</th>              <td>     1</td>      <th>                     </th>     <td> </td>   \n",
       "</tr>\n",
       "<tr>\n",
       "  <th>Covariance Type:</th>      <td>nonrobust</td>    <th>                     </th>     <td> </td>   \n",
       "</tr>\n",
       "</table>\n",
       "<table class=\"simpletable\">\n",
       "<tr>\n",
       "        <td></td>           <th>coef</th>     <th>std err</th>      <th>t</th>      <th>P>|t|</th>  <th>[0.025</th>    <th>0.975]</th>  \n",
       "</tr>\n",
       "<tr>\n",
       "  <th>const</th>         <td>   -0.0004</td> <td>    0.000</td> <td>   -1.815</td> <td> 0.070</td> <td>   -0.001</td> <td> 2.95e-05</td>\n",
       "</tr>\n",
       "<tr>\n",
       "  <th>Interest rate</th> <td>    0.0099</td> <td>    0.006</td> <td>    1.628</td> <td> 0.104</td> <td>   -0.002</td> <td>    0.022</td>\n",
       "</tr>\n",
       "</table>\n",
       "<table class=\"simpletable\">\n",
       "<tr>\n",
       "  <th>Omnibus:</th>       <td>167.563</td> <th>  Durbin-Watson:     </th> <td>   1.991</td> \n",
       "</tr>\n",
       "<tr>\n",
       "  <th>Prob(Omnibus):</th> <td> 0.000</td>  <th>  Jarque-Bera (JB):  </th> <td>1219.777</td> \n",
       "</tr>\n",
       "<tr>\n",
       "  <th>Skew:</th>          <td> 1.199</td>  <th>  Prob(JB):          </th> <td>1.34e-265</td>\n",
       "</tr>\n",
       "<tr>\n",
       "  <th>Kurtosis:</th>      <td>10.087</td>  <th>  Cond. No.          </th> <td>    223.</td> \n",
       "</tr>\n",
       "</table><br/><br/>Notes:<br/>[1] Standard Errors assume that the covariance matrix of the errors is correctly specified."
      ],
      "text/plain": [
       "<class 'statsmodels.iolib.summary.Summary'>\n",
       "\"\"\"\n",
       "                            OLS Regression Results                            \n",
       "==============================================================================\n",
       "Dep. Variable:                  delta   R-squared:                       0.005\n",
       "Model:                            OLS   Adj. R-squared:                  0.003\n",
       "Method:                 Least Squares   F-statistic:                     2.650\n",
       "Date:                Thu, 22 Aug 2024   Prob (F-statistic):              0.104\n",
       "Time:                        00:05:10   Log-Likelihood:                 3118.9\n",
       "No. Observations:                 523   AIC:                            -6234.\n",
       "Df Residuals:                     521   BIC:                            -6225.\n",
       "Df Model:                           1                                         \n",
       "Covariance Type:            nonrobust                                         \n",
       "=================================================================================\n",
       "                    coef    std err          t      P>|t|      [0.025      0.975]\n",
       "---------------------------------------------------------------------------------\n",
       "const            -0.0004      0.000     -1.815      0.070      -0.001    2.95e-05\n",
       "Interest rate     0.0099      0.006      1.628      0.104      -0.002       0.022\n",
       "==============================================================================\n",
       "Omnibus:                      167.563   Durbin-Watson:                   1.991\n",
       "Prob(Omnibus):                  0.000   Jarque-Bera (JB):             1219.777\n",
       "Skew:                           1.199   Prob(JB):                    1.34e-265\n",
       "Kurtosis:                      10.087   Cond. No.                         223.\n",
       "==============================================================================\n",
       "\n",
       "Notes:\n",
       "[1] Standard Errors assume that the covariance matrix of the errors is correctly specified.\n",
       "\"\"\""
      ]
     },
     "execution_count": 26,
     "metadata": {},
     "output_type": "execute_result"
    }
   ],
   "source": [
    "linreg = sm.OLS(y_train, x_train).fit()\n",
    "linreg.summary()"
   ]
  },
  {
   "cell_type": "code",
   "execution_count": 50,
   "metadata": {},
   "outputs": [
    {
     "name": "stdout",
     "output_type": "stream",
     "text": [
      " a: -0.009876313026699975 \n",
      " b: 0.036366347142708574 \n",
      " σ: 3.8845915744882564e-07 \n",
      " last training data interest rate: 0.0217\n"
     ]
    }
   ],
   "source": [
    "a_value = -1 * linreg.params[1]\n",
    "b_value = linreg.params[0] / a_value\n",
    "ir_t = x_train.loc[len(x_train)-1:, 'Interest rate'].values[0] # last value of interest rate on training set\n",
    "linreg_mse = linreg.mse_resid # MSE for Residuals / Variance for the model\n",
    "print(f' a: {a_value} \\n b: {b_value} \\n σ: {linreg_mse} \\n last training data interest rate: {ir_t}')"
   ]
  },
  {
   "cell_type": "code",
   "execution_count": 51,
   "metadata": {},
   "outputs": [
    {
     "name": "stderr",
     "output_type": "stream",
     "text": [
      "100%|██████████| 64/64 [00:00<00:00, 75382.04it/s]\n"
     ]
    },
    {
     "data": {
      "text/html": [
       "<div>\n",
       "<style scoped>\n",
       "    .dataframe tbody tr th:only-of-type {\n",
       "        vertical-align: middle;\n",
       "    }\n",
       "\n",
       "    .dataframe tbody tr th {\n",
       "        vertical-align: top;\n",
       "    }\n",
       "\n",
       "    .dataframe thead th {\n",
       "        text-align: right;\n",
       "    }\n",
       "</style>\n",
       "<table border=\"1\" class=\"dataframe\">\n",
       "  <thead>\n",
       "    <tr style=\"text-align: right;\">\n",
       "      <th></th>\n",
       "      <th>Date</th>\n",
       "      <th>Interest rate</th>\n",
       "      <th>Variance</th>\n",
       "    </tr>\n",
       "  </thead>\n",
       "  <tbody>\n",
       "    <tr>\n",
       "      <th>0</th>\n",
       "      <td>2021-01-07</td>\n",
       "      <td>0.021700</td>\n",
       "      <td>-0.000000e+00</td>\n",
       "    </tr>\n",
       "    <tr>\n",
       "      <th>1</th>\n",
       "      <td>2021-01-14</td>\n",
       "      <td>0.021844</td>\n",
       "      <td>-3.846477e-07</td>\n",
       "    </tr>\n",
       "    <tr>\n",
       "      <th>2</th>\n",
       "      <td>2021-01-21</td>\n",
       "      <td>0.021987</td>\n",
       "      <td>-7.617722e-07</td>\n",
       "    </tr>\n",
       "    <tr>\n",
       "      <th>3</th>\n",
       "      <td>2021-01-28</td>\n",
       "      <td>0.022128</td>\n",
       "      <td>-1.131521e-06</td>\n",
       "    </tr>\n",
       "    <tr>\n",
       "      <th>4</th>\n",
       "      <td>2021-02-04</td>\n",
       "      <td>0.022268</td>\n",
       "      <td>-1.494037e-06</td>\n",
       "    </tr>\n",
       "    <tr>\n",
       "      <th>...</th>\n",
       "      <td>...</td>\n",
       "      <td>...</td>\n",
       "      <td>...</td>\n",
       "    </tr>\n",
       "    <tr>\n",
       "      <th>59</th>\n",
       "      <td>2022-02-24</td>\n",
       "      <td>0.028177</td>\n",
       "      <td>-1.353435e-05</td>\n",
       "    </tr>\n",
       "    <tr>\n",
       "      <th>60</th>\n",
       "      <td>2022-03-03</td>\n",
       "      <td>0.028257</td>\n",
       "      <td>-1.365428e-05</td>\n",
       "    </tr>\n",
       "    <tr>\n",
       "      <th>61</th>\n",
       "      <td>2022-03-10</td>\n",
       "      <td>0.028337</td>\n",
       "      <td>-1.377187e-05</td>\n",
       "    </tr>\n",
       "    <tr>\n",
       "      <th>62</th>\n",
       "      <td>2022-03-17</td>\n",
       "      <td>0.028416</td>\n",
       "      <td>-1.388716e-05</td>\n",
       "    </tr>\n",
       "    <tr>\n",
       "      <th>63</th>\n",
       "      <td>2022-03-24</td>\n",
       "      <td>0.028494</td>\n",
       "      <td>-1.400019e-05</td>\n",
       "    </tr>\n",
       "  </tbody>\n",
       "</table>\n",
       "<p>64 rows × 3 columns</p>\n",
       "</div>"
      ],
      "text/plain": [
       "         Date  Interest rate      Variance\n",
       "0  2021-01-07       0.021700 -0.000000e+00\n",
       "1  2021-01-14       0.021844 -3.846477e-07\n",
       "2  2021-01-21       0.021987 -7.617722e-07\n",
       "3  2021-01-28       0.022128 -1.131521e-06\n",
       "4  2021-02-04       0.022268 -1.494037e-06\n",
       "..        ...            ...           ...\n",
       "59 2022-02-24       0.028177 -1.353435e-05\n",
       "60 2022-03-03       0.028257 -1.365428e-05\n",
       "61 2022-03-10       0.028337 -1.377187e-05\n",
       "62 2022-03-17       0.028416 -1.388716e-05\n",
       "63 2022-03-24       0.028494 -1.400019e-05\n",
       "\n",
       "[64 rows x 3 columns]"
      ]
     },
     "execution_count": 51,
     "metadata": {},
     "output_type": "execute_result"
    }
   ],
   "source": [
    "# forecasting with Vasicek model formula\n",
    "vasicek_pred = []\n",
    "for day in tqdm(range(len(test))):\n",
    "    new_ir = ir_t * np.exp(a_value * day) + b_value * (1 - np.exp(a_value * day))\n",
    "    new_var = (1 - np.exp(2 * a_value * day)) * linreg_mse / (2 * a_value)\n",
    "    vasicek_pred.append([new_ir, new_var])\n",
    "\n",
    "vasicek_pred_df = pd.DataFrame(vasicek_pred, columns=['Interest rate', 'Variance'])\n",
    "vasicek_pred_df['Date'] = test['Date'].values\n",
    "vasicek_pred_df = vasicek_pred_df[['Date', 'Interest rate', 'Variance']]\n",
    "vasicek_pred_df"
   ]
  },
  {
   "cell_type": "code",
   "execution_count": 52,
   "metadata": {},
   "outputs": [
    {
     "name": "stdout",
     "output_type": "stream",
     "text": [
      "Long run interest rate: 0.036366347142708574 \n",
      "Long run variance: -1.9666203187295268e-05\n"
     ]
    }
   ],
   "source": [
    "# long run forecast\n",
    "ir_long = b_value\n",
    "vol_long = linreg_mse / (2 * a_value)\n",
    "print(f'Long run interest rate: {ir_long} \\nLong run variance: {vol_long}')"
   ]
  },
  {
   "cell_type": "code",
   "execution_count": 44,
   "metadata": {},
   "outputs": [
    {
     "data": {
      "text/plain": [
       "(523   -1.458371e-04\n",
       " 524   -1.389236e-04\n",
       " 525   -1.408989e-04\n",
       " 526   -1.418865e-04\n",
       " 527   -1.408989e-04\n",
       "            ...     \n",
       " 582   -4.904920e-05\n",
       " 583   -6.188841e-05\n",
       " 584   -5.398736e-05\n",
       " 585   -2.435842e-05\n",
       " 586   -6.552651e-07\n",
       " Length: 64, dtype: float64,\n",
       " 7.556971819659139e-07,\n",
       " 0.005061365600110612)"
      ]
     },
     "execution_count": 44,
     "metadata": {},
     "output_type": "execute_result"
    }
   ],
   "source": [
    "# OLS Prediction / forecasting with linear regression model\n",
    "pred = linreg.predict(x_test)\n",
    "linreg_mse = np.mean((pred - y_test) ** 2)\n",
    "pred, linreg_mse, linreg.rsquared"
   ]
  },
  {
   "cell_type": "code",
   "execution_count": 82,
   "metadata": {},
   "outputs": [
    {
     "data": {
      "text/html": [
       "<div>\n",
       "<style scoped>\n",
       "    .dataframe tbody tr th:only-of-type {\n",
       "        vertical-align: middle;\n",
       "    }\n",
       "\n",
       "    .dataframe tbody tr th {\n",
       "        vertical-align: top;\n",
       "    }\n",
       "\n",
       "    .dataframe thead th {\n",
       "        text-align: right;\n",
       "    }\n",
       "</style>\n",
       "<table border=\"1\" class=\"dataframe\">\n",
       "  <thead>\n",
       "    <tr style=\"text-align: right;\">\n",
       "      <th></th>\n",
       "      <th>Date</th>\n",
       "      <th>Interest rate</th>\n",
       "    </tr>\n",
       "  </thead>\n",
       "  <tbody>\n",
       "    <tr>\n",
       "      <th>523</th>\n",
       "      <td>2021-01-07</td>\n",
       "      <td>0.021561</td>\n",
       "    </tr>\n",
       "    <tr>\n",
       "      <th>524</th>\n",
       "      <td>2021-01-14</td>\n",
       "      <td>0.021461</td>\n",
       "    </tr>\n",
       "    <tr>\n",
       "      <th>525</th>\n",
       "      <td>2021-01-21</td>\n",
       "      <td>0.022161</td>\n",
       "    </tr>\n",
       "    <tr>\n",
       "      <th>526</th>\n",
       "      <td>2021-01-28</td>\n",
       "      <td>0.021961</td>\n",
       "    </tr>\n",
       "    <tr>\n",
       "      <th>527</th>\n",
       "      <td>2021-02-04</td>\n",
       "      <td>0.021861</td>\n",
       "    </tr>\n",
       "    <tr>\n",
       "      <th>...</th>\n",
       "      <td>...</td>\n",
       "      <td>...</td>\n",
       "    </tr>\n",
       "    <tr>\n",
       "      <th>582</th>\n",
       "      <td>2022-02-24</td>\n",
       "      <td>0.031361</td>\n",
       "    </tr>\n",
       "    <tr>\n",
       "      <th>583</th>\n",
       "      <td>2022-03-03</td>\n",
       "      <td>0.031261</td>\n",
       "    </tr>\n",
       "    <tr>\n",
       "      <th>584</th>\n",
       "      <td>2022-03-10</td>\n",
       "      <td>0.029961</td>\n",
       "    </tr>\n",
       "    <tr>\n",
       "      <th>585</th>\n",
       "      <td>2022-03-17</td>\n",
       "      <td>0.030761</td>\n",
       "    </tr>\n",
       "    <tr>\n",
       "      <th>586</th>\n",
       "      <td>2022-03-24</td>\n",
       "      <td>0.033761</td>\n",
       "    </tr>\n",
       "  </tbody>\n",
       "</table>\n",
       "<p>64 rows × 2 columns</p>\n",
       "</div>"
      ],
      "text/plain": [
       "          Date  Interest rate\n",
       "523 2021-01-07       0.021561\n",
       "524 2021-01-14       0.021461\n",
       "525 2021-01-21       0.022161\n",
       "526 2021-01-28       0.021961\n",
       "527 2021-02-04       0.021861\n",
       "..         ...            ...\n",
       "582 2022-02-24       0.031361\n",
       "583 2022-03-03       0.031261\n",
       "584 2022-03-10       0.029961\n",
       "585 2022-03-17       0.030761\n",
       "586 2022-03-24       0.033761\n",
       "\n",
       "[64 rows x 2 columns]"
      ]
     },
     "execution_count": 82,
     "metadata": {},
     "output_type": "execute_result"
    }
   ],
   "source": [
    "ir4ols = ir.loc[len(train) - 1:, ['Date', 'Interest rate']]\n",
    "ir4ols['Interest rate'] = ir4ols['Interest rate'].shift(1)\n",
    "ir4ols.loc[:, 'Interest rate'] = ir4ols.loc[:, 'Interest rate'] + pred.values[1]\n",
    "ir4ols = ir4ols.dropna()\n",
    "ir4ols"
   ]
  },
  {
   "cell_type": "code",
   "execution_count": null,
   "metadata": {},
   "outputs": [],
   "source": []
  },
  {
   "cell_type": "code",
   "execution_count": 101,
   "metadata": {},
   "outputs": [
    {
     "data": {
      "text/plain": [
       "[<matplotlib.lines.Line2D at 0x7fd29fb91730>]"
      ]
     },
     "execution_count": 101,
     "metadata": {},
     "output_type": "execute_result"
    },
    {
     "data": {
      "image/png": "[encoded data removed]",
      "text/plain": [
       "<Figure size 640x480 with 1 Axes>"
      ]
     },
     "metadata": {},
     "output_type": "display_data"
    }
   ],
   "source": [
    "# close form vasicek 1977 model\n",
    "def vasicek(r0, kappa, theta, sigma, T, N, seed=42):\n",
    "    np.random.seed(seed)\n",
    "    dt = T/N\n",
    "    rates = [r0]\n",
    "    for i in range(N):\n",
    "        dr = kappa * (theta - rates[-1]) * dt + sigma * np.random.normal()\n",
    "        rates.append(rates[-1] + dr)\n",
    "    return np.array(rates)\n",
    "\n",
    "r0 = x_train['Interest rate'].iloc[-1]\n",
    "kappa = 0.1\n",
    "theta = 0.05\n",
    "sigma = 0.01\n",
    "T = 1\n",
    "N = y_test.shape[0]\n",
    "seed = 42\n",
    "\n",
    "rates = vasicek(r0, kappa, theta, sigma, T, N, seed)\n",
    "plt.plot(rates)"
   ]
  }
 ],
 "metadata": {
  "kernelspec": {
   "display_name": "CryptoResearch",
   "language": "python",
   "name": "python3"
  },
  "language_info": {
   "codemirror_mode": {
    "name": "ipython",
    "version": 3
   },
   "file_extension": ".py",
   "mimetype": "text/x-python",
   "name": "python",
   "nbconvert_exporter": "python",
   "pygments_lexer": "ipython3",
   "version": "3.9.15"
  }
 },
 "nbformat": 4,
 "nbformat_minor": 2
}
